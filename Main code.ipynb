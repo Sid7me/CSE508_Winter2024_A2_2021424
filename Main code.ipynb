{
  "nbformat": 4,
  "nbformat_minor": 0,
  "metadata": {
    "colab": {
      "provenance": []
    },
    "kernelspec": {
      "name": "python3",
      "display_name": "Python 3"
    },
    "language_info": {
      "name": "python"
    }
  },
  "cells": [
    {
      "cell_type": "code",
      "source": [
        "import numpy as np\n",
        "import pandas as pd\n",
        "import pickle\n",
        "from sklearn.metrics.pairwise import cosine_similarity\n",
        "tfidf_vectorizer = TfidfVectorizer()\n",
        "import numpy as np\n",
        "import pandas as pd\n",
        "import requests\n",
        "from PIL import Image\n",
        "from io import BytesIO\n",
        "from sklearn.metrics.pairwise import cosine_similarity\n",
        "from tensorflow.keras.applications import VGG16\n",
        "from tensorflow.keras.applications.vgg16 import preprocess_input\n",
        "from sklearn.feature_extraction.text import TfidfVectorizer\n",
        "import pickle\n",
        "import matplotlib.pyplot as plt"
      ],
      "metadata": {
        "id": "AQ53PbG6B-p9"
      },
      "execution_count": 80,
      "outputs": []
    },
    {
      "cell_type": "code",
      "execution_count": 81,
      "metadata": {
        "colab": {
          "base_uri": "https://localhost:8080/",
          "height": 1000
        },
        "id": "FwzksMjE6lue",
        "outputId": "32736573-cf54-4826-eb29-bcb89701593a"
      },
      "outputs": [
        {
          "output_type": "stream",
          "name": "stdout",
          "text": [
            "Error downloading image 0 for product 3452: name 'preprocess_image' is not defined\n",
            "Error downloading image 0 for product 1205: name 'preprocess_image' is not defined\n",
            "Error downloading image 1 for product 1205: name 'preprocess_image' is not defined\n",
            "Error downloading image 2 for product 1205: name 'preprocess_image' is not defined\n",
            "Error downloading image 0 for product 1708: name 'preprocess_image' is not defined\n",
            "Error downloading image 0 for product 2078: name 'preprocess_image' is not defined\n",
            "Error downloading image 0 for product 801: name 'preprocess_image' is not defined\n",
            "Error downloading image 0 for product 126: name 'preprocess_image' is not defined\n",
            "Error downloading image 1 for product 126: name 'preprocess_image' is not defined\n",
            "Error downloading image 2 for product 126: name 'preprocess_image' is not defined\n",
            "Error downloading image 3 for product 126: name 'preprocess_image' is not defined\n",
            "Error downloading image 0 for product 1329: name 'preprocess_image' is not defined\n",
            "Error downloading image 0 for product 325: name 'preprocess_image' is not defined\n",
            "Error downloading image 1 for product 325: name 'preprocess_image' is not defined\n",
            "Error downloading image 2 for product 325: name 'preprocess_image' is not defined\n",
            "Error downloading image 3 for product 325: name 'preprocess_image' is not defined\n",
            "Error downloading image 0 for product 245: name 'preprocess_image' is not defined\n",
            "Error downloading image 1 for product 245: name 'preprocess_image' is not defined\n",
            "Error downloading image 2 for product 245: name 'preprocess_image' is not defined\n",
            "Error downloading image 3 for product 245: name 'preprocess_image' is not defined\n",
            "Error downloading image 0 for product 1714: name 'preprocess_image' is not defined\n",
            "Error downloading image 1 for product 1714: name 'preprocess_image' is not defined\n",
            "Error downloading image 2 for product 1714: name 'preprocess_image' is not defined\n",
            "Error downloading image 0 for product 1743: name 'preprocess_image' is not defined\n",
            "Error downloading image 1 for product 1743: name 'preprocess_image' is not defined\n",
            "Error downloading image 2 for product 1743: name 'preprocess_image' is not defined\n",
            "Error downloading image 0 for product 3710: name 'preprocess_image' is not defined\n",
            "Error downloading image 0 for product 1664: name 'preprocess_image' is not defined\n",
            "Error downloading image 0 for product 394: name 'preprocess_image' is not defined\n",
            "Error downloading image 0 for product 1819: name 'preprocess_image' is not defined\n",
            "Error downloading image 1 for product 1819: name 'preprocess_image' is not defined\n",
            "Error downloading image 2 for product 1819: name 'preprocess_image' is not defined\n",
            "Error downloading image 3 for product 1819: name 'preprocess_image' is not defined\n",
            "Error downloading image 0 for product 672: name 'preprocess_image' is not defined\n",
            "Error downloading image 1 for product 672: name 'preprocess_image' is not defined\n",
            "Error downloading image 0 for product 2740: name 'preprocess_image' is not defined\n",
            "Error downloading image 1 for product 2740: name 'preprocess_image' is not defined\n",
            "Error downloading image 0 for product 2836: name 'preprocess_image' is not defined\n",
            "Error downloading image 0 for product 2453: name 'preprocess_image' is not defined\n",
            "Error downloading image 0 for product 364: name 'preprocess_image' is not defined\n",
            "Error downloading image 0 for product 818: name 'preprocess_image' is not defined\n",
            "Error downloading image 0 for product 3705: name 'preprocess_image' is not defined\n",
            "Error downloading image 1 for product 3705: name 'preprocess_image' is not defined\n",
            "Error downloading image 2 for product 3705: name 'preprocess_image' is not defined\n",
            "Error downloading image 0 for product 1890: name 'preprocess_image' is not defined\n",
            "Error downloading image 0 for product 1572: name 'preprocess_image' is not defined\n",
            "Error downloading image 1 for product 1572: name 'preprocess_image' is not defined\n",
            "Error downloading image 0 for product 649: name 'preprocess_image' is not defined\n",
            "Error downloading image 0 for product 3023: name 'preprocess_image' is not defined\n",
            "Error downloading image 1 for product 3023: name 'preprocess_image' is not defined\n",
            "Error downloading image 0 for product 527: name 'preprocess_image' is not defined\n",
            "Error downloading image 0 for product 1039: name 'preprocess_image' is not defined\n",
            "Error downloading image 1 for product 1039: name 'preprocess_image' is not defined\n",
            "Error downloading image 2 for product 1039: name 'preprocess_image' is not defined\n",
            "Error downloading image 0 for product 2543: name 'preprocess_image' is not defined\n",
            "Error downloading image 1 for product 2543: name 'preprocess_image' is not defined\n",
            "Error downloading image 0 for product 1191: name 'preprocess_image' is not defined\n",
            "Error downloading image 0 for product 590: name 'preprocess_image' is not defined\n",
            "Error downloading image 0 for product 2357: name 'preprocess_image' is not defined\n",
            "Error downloading image 0 for product 668: name 'preprocess_image' is not defined\n",
            "Error downloading image 0 for product 1648: name 'preprocess_image' is not defined\n",
            "Error downloading image 0 for product 469: name 'preprocess_image' is not defined\n",
            "Error downloading image 1 for product 469: name 'preprocess_image' is not defined\n",
            "Error downloading image 0 for product 2331: name 'preprocess_image' is not defined\n",
            "Error downloading image 1 for product 2331: name 'preprocess_image' is not defined\n",
            "Error downloading image 2 for product 2331: name 'preprocess_image' is not defined\n",
            "Error downloading image 3 for product 2331: name 'preprocess_image' is not defined\n",
            "Error downloading image 0 for product 464: name 'preprocess_image' is not defined\n",
            "Error downloading image 1 for product 464: name 'preprocess_image' is not defined\n",
            "Error downloading image 2 for product 464: name 'preprocess_image' is not defined\n",
            "Error downloading image 0 for product 61: name 'preprocess_image' is not defined\n",
            "Error downloading image 1 for product 61: name 'preprocess_image' is not defined\n",
            "Error downloading image 2 for product 61: name 'preprocess_image' is not defined\n",
            "Error downloading image 3 for product 61: name 'preprocess_image' is not defined\n",
            "Error downloading image 4 for product 61: name 'preprocess_image' is not defined\n",
            "Error downloading image 5 for product 61: name 'preprocess_image' is not defined\n",
            "Error downloading image 6 for product 61: name 'preprocess_image' is not defined\n",
            "Error downloading image 0 for product 2724: name 'preprocess_image' is not defined\n",
            "Error downloading image 1 for product 2724: name 'preprocess_image' is not defined\n",
            "Error downloading image 2 for product 2724: name 'preprocess_image' is not defined\n",
            "Error downloading image 0 for product 1686: name 'preprocess_image' is not defined\n",
            "Error downloading image 1 for product 1686: name 'preprocess_image' is not defined\n",
            "Error downloading image 2 for product 1686: name 'preprocess_image' is not defined\n",
            "Error downloading image 0 for product 1968: name 'preprocess_image' is not defined\n",
            "Error downloading image 0 for product 526: name 'preprocess_image' is not defined\n",
            "Error downloading image 1 for product 526: name 'preprocess_image' is not defined\n",
            "Error downloading image 2 for product 526: name 'preprocess_image' is not defined\n",
            "Error downloading image 0 for product 1211: name 'preprocess_image' is not defined\n",
            "Error downloading image 0 for product 3370: name 'preprocess_image' is not defined\n",
            "Error downloading image 0 for product 1713: name 'preprocess_image' is not defined\n",
            "Error downloading image 0 for product 584: name 'preprocess_image' is not defined\n",
            "Error downloading image 1 for product 584: name 'preprocess_image' is not defined\n",
            "Error downloading image 2 for product 584: name 'preprocess_image' is not defined\n",
            "Error downloading image 0 for product 3609: name 'preprocess_image' is not defined\n",
            "Error downloading image 1 for product 3609: name 'preprocess_image' is not defined\n",
            "Error downloading image 2 for product 3609: name 'preprocess_image' is not defined\n",
            "Error downloading image 0 for product 529: name 'preprocess_image' is not defined\n",
            "Error downloading image 0 for product 3255: name 'preprocess_image' is not defined\n",
            "Error downloading image 0 for product 288: name 'preprocess_image' is not defined\n",
            "Error downloading image 0 for product 262: name 'preprocess_image' is not defined\n",
            "Error downloading image 0 for product 3056: name 'preprocess_image' is not defined\n",
            "Error downloading image 0 for product 1953: name 'preprocess_image' is not defined\n",
            "Error downloading image 0 for product 1347: name 'preprocess_image' is not defined\n",
            "Error downloading image 1 for product 1347: name 'preprocess_image' is not defined\n",
            "Error downloading image 0 for product 2894: name 'preprocess_image' is not defined\n",
            "Error downloading image 1 for product 2894: name 'preprocess_image' is not defined\n",
            "Error downloading image 0 for product 66: name 'preprocess_image' is not defined\n",
            "Error downloading image 0 for product 2380: name 'preprocess_image' is not defined\n",
            "Error downloading image 1 for product 2380: name 'preprocess_image' is not defined\n"
          ]
        },
        {
          "output_type": "error",
          "ename": "KeyboardInterrupt",
          "evalue": "",
          "traceback": [
            "\u001b[0;31m---------------------------------------------------------------------------\u001b[0m",
            "\u001b[0;31mKeyboardInterrupt\u001b[0m                         Traceback (most recent call last)",
            "\u001b[0;32m<ipython-input-81-92033b8bb54c>\u001b[0m in \u001b[0;36m<cell line: 56>\u001b[0;34m()\u001b[0m\n\u001b[1;32m     54\u001b[0m \u001b[0mdataset_path\u001b[0m \u001b[0;34m=\u001b[0m \u001b[0;34m'/content/drive/MyDrive/IR_A2_dataset/A2_Data.csv'\u001b[0m\u001b[0;34m\u001b[0m\u001b[0;34m\u001b[0m\u001b[0m\n\u001b[1;32m     55\u001b[0m \u001b[0moutput_directory\u001b[0m \u001b[0;34m=\u001b[0m \u001b[0;34m'/content/drive/MyDrive/IR_A2_dataset'\u001b[0m\u001b[0;34m\u001b[0m\u001b[0;34m\u001b[0m\u001b[0m\n\u001b[0;32m---> 56\u001b[0;31m \u001b[0mdownload_images_from_dataset\u001b[0m\u001b[0;34m(\u001b[0m\u001b[0mdataset_path\u001b[0m\u001b[0;34m,\u001b[0m \u001b[0moutput_directory\u001b[0m\u001b[0;34m)\u001b[0m\u001b[0;34m\u001b[0m\u001b[0;34m\u001b[0m\u001b[0m\n\u001b[0m",
            "\u001b[0;32m<ipython-input-81-92033b8bb54c>\u001b[0m in \u001b[0;36mdownload_images_from_dataset\u001b[0;34m(dataset_path, output_directory)\u001b[0m\n\u001b[1;32m     35\u001b[0m             \u001b[0;32mtry\u001b[0m\u001b[0;34m:\u001b[0m\u001b[0;34m\u001b[0m\u001b[0;34m\u001b[0m\u001b[0m\n\u001b[1;32m     36\u001b[0m \u001b[0;34m\u001b[0m\u001b[0m\n\u001b[0;32m---> 37\u001b[0;31m                 \u001b[0mresponse\u001b[0m \u001b[0;34m=\u001b[0m \u001b[0mrequests\u001b[0m\u001b[0;34m.\u001b[0m\u001b[0mget\u001b[0m\u001b[0;34m(\u001b[0m\u001b[0murl\u001b[0m\u001b[0;34m)\u001b[0m\u001b[0;34m\u001b[0m\u001b[0;34m\u001b[0m\u001b[0m\n\u001b[0m\u001b[1;32m     38\u001b[0m                 \u001b[0;32mif\u001b[0m \u001b[0mresponse\u001b[0m\u001b[0;34m.\u001b[0m\u001b[0mstatus_code\u001b[0m \u001b[0;34m==\u001b[0m \u001b[0;36m200\u001b[0m\u001b[0;34m:\u001b[0m\u001b[0;34m\u001b[0m\u001b[0;34m\u001b[0m\u001b[0m\n\u001b[1;32m     39\u001b[0m \u001b[0;34m\u001b[0m\u001b[0m\n",
            "\u001b[0;32m/usr/local/lib/python3.10/dist-packages/requests/api.py\u001b[0m in \u001b[0;36mget\u001b[0;34m(url, params, **kwargs)\u001b[0m\n\u001b[1;32m     71\u001b[0m     \"\"\"\n\u001b[1;32m     72\u001b[0m \u001b[0;34m\u001b[0m\u001b[0m\n\u001b[0;32m---> 73\u001b[0;31m     \u001b[0;32mreturn\u001b[0m \u001b[0mrequest\u001b[0m\u001b[0;34m(\u001b[0m\u001b[0;34m\"get\"\u001b[0m\u001b[0;34m,\u001b[0m \u001b[0murl\u001b[0m\u001b[0;34m,\u001b[0m \u001b[0mparams\u001b[0m\u001b[0;34m=\u001b[0m\u001b[0mparams\u001b[0m\u001b[0;34m,\u001b[0m \u001b[0;34m**\u001b[0m\u001b[0mkwargs\u001b[0m\u001b[0;34m)\u001b[0m\u001b[0;34m\u001b[0m\u001b[0;34m\u001b[0m\u001b[0m\n\u001b[0m\u001b[1;32m     74\u001b[0m \u001b[0;34m\u001b[0m\u001b[0m\n\u001b[1;32m     75\u001b[0m \u001b[0;34m\u001b[0m\u001b[0m\n",
            "\u001b[0;32m/usr/local/lib/python3.10/dist-packages/requests/api.py\u001b[0m in \u001b[0;36mrequest\u001b[0;34m(method, url, **kwargs)\u001b[0m\n\u001b[1;32m     57\u001b[0m     \u001b[0;31m# cases, and look like a memory leak in others.\u001b[0m\u001b[0;34m\u001b[0m\u001b[0;34m\u001b[0m\u001b[0m\n\u001b[1;32m     58\u001b[0m     \u001b[0;32mwith\u001b[0m \u001b[0msessions\u001b[0m\u001b[0;34m.\u001b[0m\u001b[0mSession\u001b[0m\u001b[0;34m(\u001b[0m\u001b[0;34m)\u001b[0m \u001b[0;32mas\u001b[0m \u001b[0msession\u001b[0m\u001b[0;34m:\u001b[0m\u001b[0;34m\u001b[0m\u001b[0;34m\u001b[0m\u001b[0m\n\u001b[0;32m---> 59\u001b[0;31m         \u001b[0;32mreturn\u001b[0m \u001b[0msession\u001b[0m\u001b[0;34m.\u001b[0m\u001b[0mrequest\u001b[0m\u001b[0;34m(\u001b[0m\u001b[0mmethod\u001b[0m\u001b[0;34m=\u001b[0m\u001b[0mmethod\u001b[0m\u001b[0;34m,\u001b[0m \u001b[0murl\u001b[0m\u001b[0;34m=\u001b[0m\u001b[0murl\u001b[0m\u001b[0;34m,\u001b[0m \u001b[0;34m**\u001b[0m\u001b[0mkwargs\u001b[0m\u001b[0;34m)\u001b[0m\u001b[0;34m\u001b[0m\u001b[0;34m\u001b[0m\u001b[0m\n\u001b[0m\u001b[1;32m     60\u001b[0m \u001b[0;34m\u001b[0m\u001b[0m\n\u001b[1;32m     61\u001b[0m \u001b[0;34m\u001b[0m\u001b[0m\n",
            "\u001b[0;32m/usr/local/lib/python3.10/dist-packages/requests/sessions.py\u001b[0m in \u001b[0;36mrequest\u001b[0;34m(self, method, url, params, data, headers, cookies, files, auth, timeout, allow_redirects, proxies, hooks, stream, verify, cert, json)\u001b[0m\n\u001b[1;32m    587\u001b[0m         }\n\u001b[1;32m    588\u001b[0m         \u001b[0msend_kwargs\u001b[0m\u001b[0;34m.\u001b[0m\u001b[0mupdate\u001b[0m\u001b[0;34m(\u001b[0m\u001b[0msettings\u001b[0m\u001b[0;34m)\u001b[0m\u001b[0;34m\u001b[0m\u001b[0;34m\u001b[0m\u001b[0m\n\u001b[0;32m--> 589\u001b[0;31m         \u001b[0mresp\u001b[0m \u001b[0;34m=\u001b[0m \u001b[0mself\u001b[0m\u001b[0;34m.\u001b[0m\u001b[0msend\u001b[0m\u001b[0;34m(\u001b[0m\u001b[0mprep\u001b[0m\u001b[0;34m,\u001b[0m \u001b[0;34m**\u001b[0m\u001b[0msend_kwargs\u001b[0m\u001b[0;34m)\u001b[0m\u001b[0;34m\u001b[0m\u001b[0;34m\u001b[0m\u001b[0m\n\u001b[0m\u001b[1;32m    590\u001b[0m \u001b[0;34m\u001b[0m\u001b[0m\n\u001b[1;32m    591\u001b[0m         \u001b[0;32mreturn\u001b[0m \u001b[0mresp\u001b[0m\u001b[0;34m\u001b[0m\u001b[0;34m\u001b[0m\u001b[0m\n",
            "\u001b[0;32m/usr/local/lib/python3.10/dist-packages/requests/sessions.py\u001b[0m in \u001b[0;36msend\u001b[0;34m(self, request, **kwargs)\u001b[0m\n\u001b[1;32m    701\u001b[0m \u001b[0;34m\u001b[0m\u001b[0m\n\u001b[1;32m    702\u001b[0m         \u001b[0;31m# Send the request\u001b[0m\u001b[0;34m\u001b[0m\u001b[0;34m\u001b[0m\u001b[0m\n\u001b[0;32m--> 703\u001b[0;31m         \u001b[0mr\u001b[0m \u001b[0;34m=\u001b[0m \u001b[0madapter\u001b[0m\u001b[0;34m.\u001b[0m\u001b[0msend\u001b[0m\u001b[0;34m(\u001b[0m\u001b[0mrequest\u001b[0m\u001b[0;34m,\u001b[0m \u001b[0;34m**\u001b[0m\u001b[0mkwargs\u001b[0m\u001b[0;34m)\u001b[0m\u001b[0;34m\u001b[0m\u001b[0;34m\u001b[0m\u001b[0m\n\u001b[0m\u001b[1;32m    704\u001b[0m \u001b[0;34m\u001b[0m\u001b[0m\n\u001b[1;32m    705\u001b[0m         \u001b[0;31m# Total elapsed time of the request (approximately)\u001b[0m\u001b[0;34m\u001b[0m\u001b[0;34m\u001b[0m\u001b[0m\n",
            "\u001b[0;32m/usr/local/lib/python3.10/dist-packages/requests/adapters.py\u001b[0m in \u001b[0;36msend\u001b[0;34m(self, request, stream, timeout, verify, cert, proxies)\u001b[0m\n\u001b[1;32m    484\u001b[0m \u001b[0;34m\u001b[0m\u001b[0m\n\u001b[1;32m    485\u001b[0m         \u001b[0;32mtry\u001b[0m\u001b[0;34m:\u001b[0m\u001b[0;34m\u001b[0m\u001b[0;34m\u001b[0m\u001b[0m\n\u001b[0;32m--> 486\u001b[0;31m             resp = conn.urlopen(\n\u001b[0m\u001b[1;32m    487\u001b[0m                 \u001b[0mmethod\u001b[0m\u001b[0;34m=\u001b[0m\u001b[0mrequest\u001b[0m\u001b[0;34m.\u001b[0m\u001b[0mmethod\u001b[0m\u001b[0;34m,\u001b[0m\u001b[0;34m\u001b[0m\u001b[0;34m\u001b[0m\u001b[0m\n\u001b[1;32m    488\u001b[0m                 \u001b[0murl\u001b[0m\u001b[0;34m=\u001b[0m\u001b[0murl\u001b[0m\u001b[0;34m,\u001b[0m\u001b[0;34m\u001b[0m\u001b[0;34m\u001b[0m\u001b[0m\n",
            "\u001b[0;32m/usr/local/lib/python3.10/dist-packages/urllib3/connectionpool.py\u001b[0m in \u001b[0;36murlopen\u001b[0;34m(self, method, url, body, headers, retries, redirect, assert_same_host, timeout, pool_timeout, release_conn, chunked, body_pos, preload_content, decode_content, **response_kw)\u001b[0m\n\u001b[1;32m    789\u001b[0m \u001b[0;34m\u001b[0m\u001b[0m\n\u001b[1;32m    790\u001b[0m             \u001b[0;31m# Make the request on the HTTPConnection object\u001b[0m\u001b[0;34m\u001b[0m\u001b[0;34m\u001b[0m\u001b[0m\n\u001b[0;32m--> 791\u001b[0;31m             response = self._make_request(\n\u001b[0m\u001b[1;32m    792\u001b[0m                 \u001b[0mconn\u001b[0m\u001b[0;34m,\u001b[0m\u001b[0;34m\u001b[0m\u001b[0;34m\u001b[0m\u001b[0m\n\u001b[1;32m    793\u001b[0m                 \u001b[0mmethod\u001b[0m\u001b[0;34m,\u001b[0m\u001b[0;34m\u001b[0m\u001b[0;34m\u001b[0m\u001b[0m\n",
            "\u001b[0;32m/usr/local/lib/python3.10/dist-packages/urllib3/connectionpool.py\u001b[0m in \u001b[0;36m_make_request\u001b[0;34m(self, conn, method, url, body, headers, retries, timeout, chunked, response_conn, preload_content, decode_content, enforce_content_length)\u001b[0m\n\u001b[1;32m    466\u001b[0m             \u001b[0;31m# Trigger any extra validation we need to do.\u001b[0m\u001b[0;34m\u001b[0m\u001b[0;34m\u001b[0m\u001b[0m\n\u001b[1;32m    467\u001b[0m             \u001b[0;32mtry\u001b[0m\u001b[0;34m:\u001b[0m\u001b[0;34m\u001b[0m\u001b[0;34m\u001b[0m\u001b[0m\n\u001b[0;32m--> 468\u001b[0;31m                 \u001b[0mself\u001b[0m\u001b[0;34m.\u001b[0m\u001b[0m_validate_conn\u001b[0m\u001b[0;34m(\u001b[0m\u001b[0mconn\u001b[0m\u001b[0;34m)\u001b[0m\u001b[0;34m\u001b[0m\u001b[0;34m\u001b[0m\u001b[0m\n\u001b[0m\u001b[1;32m    469\u001b[0m             \u001b[0;32mexcept\u001b[0m \u001b[0;34m(\u001b[0m\u001b[0mSocketTimeout\u001b[0m\u001b[0;34m,\u001b[0m \u001b[0mBaseSSLError\u001b[0m\u001b[0;34m)\u001b[0m \u001b[0;32mas\u001b[0m \u001b[0me\u001b[0m\u001b[0;34m:\u001b[0m\u001b[0;34m\u001b[0m\u001b[0;34m\u001b[0m\u001b[0m\n\u001b[1;32m    470\u001b[0m                 \u001b[0mself\u001b[0m\u001b[0;34m.\u001b[0m\u001b[0m_raise_timeout\u001b[0m\u001b[0;34m(\u001b[0m\u001b[0merr\u001b[0m\u001b[0;34m=\u001b[0m\u001b[0me\u001b[0m\u001b[0;34m,\u001b[0m \u001b[0murl\u001b[0m\u001b[0;34m=\u001b[0m\u001b[0murl\u001b[0m\u001b[0;34m,\u001b[0m \u001b[0mtimeout_value\u001b[0m\u001b[0;34m=\u001b[0m\u001b[0mconn\u001b[0m\u001b[0;34m.\u001b[0m\u001b[0mtimeout\u001b[0m\u001b[0;34m)\u001b[0m\u001b[0;34m\u001b[0m\u001b[0;34m\u001b[0m\u001b[0m\n",
            "\u001b[0;32m/usr/local/lib/python3.10/dist-packages/urllib3/connectionpool.py\u001b[0m in \u001b[0;36m_validate_conn\u001b[0;34m(self, conn)\u001b[0m\n\u001b[1;32m   1095\u001b[0m         \u001b[0;31m# Force connect early to allow us to validate the connection.\u001b[0m\u001b[0;34m\u001b[0m\u001b[0;34m\u001b[0m\u001b[0m\n\u001b[1;32m   1096\u001b[0m         \u001b[0;32mif\u001b[0m \u001b[0mconn\u001b[0m\u001b[0;34m.\u001b[0m\u001b[0mis_closed\u001b[0m\u001b[0;34m:\u001b[0m\u001b[0;34m\u001b[0m\u001b[0;34m\u001b[0m\u001b[0m\n\u001b[0;32m-> 1097\u001b[0;31m             \u001b[0mconn\u001b[0m\u001b[0;34m.\u001b[0m\u001b[0mconnect\u001b[0m\u001b[0;34m(\u001b[0m\u001b[0;34m)\u001b[0m\u001b[0;34m\u001b[0m\u001b[0;34m\u001b[0m\u001b[0m\n\u001b[0m\u001b[1;32m   1098\u001b[0m \u001b[0;34m\u001b[0m\u001b[0m\n\u001b[1;32m   1099\u001b[0m         \u001b[0;32mif\u001b[0m \u001b[0;32mnot\u001b[0m \u001b[0mconn\u001b[0m\u001b[0;34m.\u001b[0m\u001b[0mis_verified\u001b[0m\u001b[0;34m:\u001b[0m\u001b[0;34m\u001b[0m\u001b[0;34m\u001b[0m\u001b[0m\n",
            "\u001b[0;32m/usr/local/lib/python3.10/dist-packages/urllib3/connection.py\u001b[0m in \u001b[0;36mconnect\u001b[0;34m(self)\u001b[0m\n\u001b[1;32m    640\u001b[0m             )\n\u001b[1;32m    641\u001b[0m \u001b[0;34m\u001b[0m\u001b[0m\n\u001b[0;32m--> 642\u001b[0;31m         sock_and_verified = _ssl_wrap_socket_and_match_hostname(\n\u001b[0m\u001b[1;32m    643\u001b[0m             \u001b[0msock\u001b[0m\u001b[0;34m=\u001b[0m\u001b[0msock\u001b[0m\u001b[0;34m,\u001b[0m\u001b[0;34m\u001b[0m\u001b[0;34m\u001b[0m\u001b[0m\n\u001b[1;32m    644\u001b[0m             \u001b[0mcert_reqs\u001b[0m\u001b[0;34m=\u001b[0m\u001b[0mself\u001b[0m\u001b[0;34m.\u001b[0m\u001b[0mcert_reqs\u001b[0m\u001b[0;34m,\u001b[0m\u001b[0;34m\u001b[0m\u001b[0;34m\u001b[0m\u001b[0m\n",
            "\u001b[0;32m/usr/local/lib/python3.10/dist-packages/urllib3/connection.py\u001b[0m in \u001b[0;36m_ssl_wrap_socket_and_match_hostname\u001b[0;34m(sock, cert_reqs, ssl_version, ssl_minimum_version, ssl_maximum_version, cert_file, key_file, key_password, ca_certs, ca_cert_dir, ca_cert_data, assert_hostname, assert_fingerprint, server_hostname, ssl_context, tls_in_tls)\u001b[0m\n\u001b[1;32m    781\u001b[0m             \u001b[0mserver_hostname\u001b[0m \u001b[0;34m=\u001b[0m \u001b[0mnormalized\u001b[0m\u001b[0;34m\u001b[0m\u001b[0;34m\u001b[0m\u001b[0m\n\u001b[1;32m    782\u001b[0m \u001b[0;34m\u001b[0m\u001b[0m\n\u001b[0;32m--> 783\u001b[0;31m     ssl_sock = ssl_wrap_socket(\n\u001b[0m\u001b[1;32m    784\u001b[0m         \u001b[0msock\u001b[0m\u001b[0;34m=\u001b[0m\u001b[0msock\u001b[0m\u001b[0;34m,\u001b[0m\u001b[0;34m\u001b[0m\u001b[0;34m\u001b[0m\u001b[0m\n\u001b[1;32m    785\u001b[0m         \u001b[0mkeyfile\u001b[0m\u001b[0;34m=\u001b[0m\u001b[0mkey_file\u001b[0m\u001b[0;34m,\u001b[0m\u001b[0;34m\u001b[0m\u001b[0;34m\u001b[0m\u001b[0m\n",
            "\u001b[0;32m/usr/local/lib/python3.10/dist-packages/urllib3/util/ssl_.py\u001b[0m in \u001b[0;36mssl_wrap_socket\u001b[0;34m(sock, keyfile, certfile, cert_reqs, ca_certs, server_hostname, ssl_version, ciphers, ssl_context, ca_cert_dir, key_password, ca_cert_data, tls_in_tls)\u001b[0m\n\u001b[1;32m    469\u001b[0m         \u001b[0;32mpass\u001b[0m\u001b[0;34m\u001b[0m\u001b[0;34m\u001b[0m\u001b[0m\n\u001b[1;32m    470\u001b[0m \u001b[0;34m\u001b[0m\u001b[0m\n\u001b[0;32m--> 471\u001b[0;31m     \u001b[0mssl_sock\u001b[0m \u001b[0;34m=\u001b[0m \u001b[0m_ssl_wrap_socket_impl\u001b[0m\u001b[0;34m(\u001b[0m\u001b[0msock\u001b[0m\u001b[0;34m,\u001b[0m \u001b[0mcontext\u001b[0m\u001b[0;34m,\u001b[0m \u001b[0mtls_in_tls\u001b[0m\u001b[0;34m,\u001b[0m \u001b[0mserver_hostname\u001b[0m\u001b[0;34m)\u001b[0m\u001b[0;34m\u001b[0m\u001b[0;34m\u001b[0m\u001b[0m\n\u001b[0m\u001b[1;32m    472\u001b[0m     \u001b[0;32mreturn\u001b[0m \u001b[0mssl_sock\u001b[0m\u001b[0;34m\u001b[0m\u001b[0;34m\u001b[0m\u001b[0m\n\u001b[1;32m    473\u001b[0m \u001b[0;34m\u001b[0m\u001b[0m\n",
            "\u001b[0;32m/usr/local/lib/python3.10/dist-packages/urllib3/util/ssl_.py\u001b[0m in \u001b[0;36m_ssl_wrap_socket_impl\u001b[0;34m(sock, ssl_context, tls_in_tls, server_hostname)\u001b[0m\n\u001b[1;32m    513\u001b[0m         \u001b[0;32mreturn\u001b[0m \u001b[0mSSLTransport\u001b[0m\u001b[0;34m(\u001b[0m\u001b[0msock\u001b[0m\u001b[0;34m,\u001b[0m \u001b[0mssl_context\u001b[0m\u001b[0;34m,\u001b[0m \u001b[0mserver_hostname\u001b[0m\u001b[0;34m)\u001b[0m\u001b[0;34m\u001b[0m\u001b[0;34m\u001b[0m\u001b[0m\n\u001b[1;32m    514\u001b[0m \u001b[0;34m\u001b[0m\u001b[0m\n\u001b[0;32m--> 515\u001b[0;31m     \u001b[0;32mreturn\u001b[0m \u001b[0mssl_context\u001b[0m\u001b[0;34m.\u001b[0m\u001b[0mwrap_socket\u001b[0m\u001b[0;34m(\u001b[0m\u001b[0msock\u001b[0m\u001b[0;34m,\u001b[0m \u001b[0mserver_hostname\u001b[0m\u001b[0;34m=\u001b[0m\u001b[0mserver_hostname\u001b[0m\u001b[0;34m)\u001b[0m\u001b[0;34m\u001b[0m\u001b[0;34m\u001b[0m\u001b[0m\n\u001b[0m",
            "\u001b[0;32m/usr/lib/python3.10/ssl.py\u001b[0m in \u001b[0;36mwrap_socket\u001b[0;34m(self, sock, server_side, do_handshake_on_connect, suppress_ragged_eofs, server_hostname, session)\u001b[0m\n\u001b[1;32m    511\u001b[0m         \u001b[0;31m# SSLSocket class handles server_hostname encoding before it calls\u001b[0m\u001b[0;34m\u001b[0m\u001b[0;34m\u001b[0m\u001b[0m\n\u001b[1;32m    512\u001b[0m         \u001b[0;31m# ctx._wrap_socket()\u001b[0m\u001b[0;34m\u001b[0m\u001b[0;34m\u001b[0m\u001b[0m\n\u001b[0;32m--> 513\u001b[0;31m         return self.sslsocket_class._create(\n\u001b[0m\u001b[1;32m    514\u001b[0m             \u001b[0msock\u001b[0m\u001b[0;34m=\u001b[0m\u001b[0msock\u001b[0m\u001b[0;34m,\u001b[0m\u001b[0;34m\u001b[0m\u001b[0;34m\u001b[0m\u001b[0m\n\u001b[1;32m    515\u001b[0m             \u001b[0mserver_side\u001b[0m\u001b[0;34m=\u001b[0m\u001b[0mserver_side\u001b[0m\u001b[0;34m,\u001b[0m\u001b[0;34m\u001b[0m\u001b[0;34m\u001b[0m\u001b[0m\n",
            "\u001b[0;32m/usr/lib/python3.10/ssl.py\u001b[0m in \u001b[0;36m_create\u001b[0;34m(cls, sock, server_side, do_handshake_on_connect, suppress_ragged_eofs, server_hostname, context, session)\u001b[0m\n\u001b[1;32m   1098\u001b[0m                         \u001b[0;31m# non-blocking\u001b[0m\u001b[0;34m\u001b[0m\u001b[0;34m\u001b[0m\u001b[0m\n\u001b[1;32m   1099\u001b[0m                         \u001b[0;32mraise\u001b[0m \u001b[0mValueError\u001b[0m\u001b[0;34m(\u001b[0m\u001b[0;34m\"do_handshake_on_connect should not be specified for non-blocking sockets\"\u001b[0m\u001b[0;34m)\u001b[0m\u001b[0;34m\u001b[0m\u001b[0;34m\u001b[0m\u001b[0m\n\u001b[0;32m-> 1100\u001b[0;31m                     \u001b[0mself\u001b[0m\u001b[0;34m.\u001b[0m\u001b[0mdo_handshake\u001b[0m\u001b[0;34m(\u001b[0m\u001b[0;34m)\u001b[0m\u001b[0;34m\u001b[0m\u001b[0;34m\u001b[0m\u001b[0m\n\u001b[0m\u001b[1;32m   1101\u001b[0m             \u001b[0;32mexcept\u001b[0m \u001b[0;34m(\u001b[0m\u001b[0mOSError\u001b[0m\u001b[0;34m,\u001b[0m \u001b[0mValueError\u001b[0m\u001b[0;34m)\u001b[0m\u001b[0;34m:\u001b[0m\u001b[0;34m\u001b[0m\u001b[0;34m\u001b[0m\u001b[0m\n\u001b[1;32m   1102\u001b[0m                 \u001b[0mself\u001b[0m\u001b[0;34m.\u001b[0m\u001b[0mclose\u001b[0m\u001b[0;34m(\u001b[0m\u001b[0;34m)\u001b[0m\u001b[0;34m\u001b[0m\u001b[0;34m\u001b[0m\u001b[0m\n",
            "\u001b[0;32m/usr/lib/python3.10/ssl.py\u001b[0m in \u001b[0;36mdo_handshake\u001b[0;34m(self, block)\u001b[0m\n\u001b[1;32m   1369\u001b[0m             \u001b[0;32mif\u001b[0m \u001b[0mtimeout\u001b[0m \u001b[0;34m==\u001b[0m \u001b[0;36m0.0\u001b[0m \u001b[0;32mand\u001b[0m \u001b[0mblock\u001b[0m\u001b[0;34m:\u001b[0m\u001b[0;34m\u001b[0m\u001b[0;34m\u001b[0m\u001b[0m\n\u001b[1;32m   1370\u001b[0m                 \u001b[0mself\u001b[0m\u001b[0;34m.\u001b[0m\u001b[0msettimeout\u001b[0m\u001b[0;34m(\u001b[0m\u001b[0;32mNone\u001b[0m\u001b[0;34m)\u001b[0m\u001b[0;34m\u001b[0m\u001b[0;34m\u001b[0m\u001b[0m\n\u001b[0;32m-> 1371\u001b[0;31m             \u001b[0mself\u001b[0m\u001b[0;34m.\u001b[0m\u001b[0m_sslobj\u001b[0m\u001b[0;34m.\u001b[0m\u001b[0mdo_handshake\u001b[0m\u001b[0;34m(\u001b[0m\u001b[0;34m)\u001b[0m\u001b[0;34m\u001b[0m\u001b[0;34m\u001b[0m\u001b[0m\n\u001b[0m\u001b[1;32m   1372\u001b[0m         \u001b[0;32mfinally\u001b[0m\u001b[0;34m:\u001b[0m\u001b[0;34m\u001b[0m\u001b[0;34m\u001b[0m\u001b[0m\n\u001b[1;32m   1373\u001b[0m             \u001b[0mself\u001b[0m\u001b[0;34m.\u001b[0m\u001b[0msettimeout\u001b[0m\u001b[0;34m(\u001b[0m\u001b[0mtimeout\u001b[0m\u001b[0;34m)\u001b[0m\u001b[0;34m\u001b[0m\u001b[0;34m\u001b[0m\u001b[0m\n",
            "\u001b[0;31mKeyboardInterrupt\u001b[0m: "
          ]
        }
      ],
      "source": [
        "import os\n",
        "import cv2\n",
        "import numpy as np\n",
        "import requests\n",
        "from PIL import Image\n",
        "from io import BytesIO\n",
        "import pandas as pd\n",
        "\n",
        "def download_images_from_dataset(dataset_path, output_directory):\n",
        "\n",
        "    df = pd.read_csv(dataset_path)\n",
        "\n",
        "\n",
        "    preprocessed_output_directory = os.path.join(output_directory, 'preprocessed_final')\n",
        "    os.makedirs(preprocessed_output_directory, exist_ok=True)\n",
        "\n",
        "\n",
        "    for index, row in df.iterrows():\n",
        "        product_id = row['Index']\n",
        "        image_urls = eval(row['Image'])\n",
        "\n",
        "\n",
        "        image_urls = [url for url in image_urls if url != 'not found']\n",
        "\n",
        "        if len(image_urls) == 0:\n",
        "            print(f\"No valid image URLs found for product {product_id}. Removing this row.\")\n",
        "            df.drop(index, inplace=True)\n",
        "            continue\n",
        "\n",
        "\n",
        "        product_directory = os.path.join(preprocessed_output_directory, str(product_id))\n",
        "        os.makedirs(product_directory, exist_ok=True)\n",
        "\n",
        "        for i, url in enumerate(image_urls):\n",
        "            try:\n",
        "\n",
        "                response = requests.get(url)\n",
        "                if response.status_code == 200:\n",
        "\n",
        "                    image = cv2.imdecode(np.frombuffer(response.content, np.uint8), -1)\n",
        "                    image = preprocess_image(image)\n",
        "\n",
        "                    cv2.imwrite(os.path.join(product_directory, f'image_{i}.jpg'), image)\n",
        "                    print(f\"Image {i} for product {product_id} downloaded and preprocessed successfully.\")\n",
        "                else:\n",
        "                    print(f\"Failed to download image {i} for product {product_id}. Status code: {response.status_code}\")\n",
        "            except Exception as e:\n",
        "                print(f\"Error downloading image {i} for product {product_id}: {e}\")\n",
        "\n",
        "\n",
        "    df.to_csv(dataset_path, index=False)\n",
        "\n",
        "\n",
        "dataset_path = '/content/drive/MyDrive/IR_A2_dataset/A2_Data.csv'\n",
        "output_directory = '/content/drive/MyDrive/IR_A2_dataset'\n",
        "download_images_from_dataset(dataset_path, output_directory)\n"
      ]
    },
    {
      "cell_type": "markdown",
      "source": [
        "Q1(b)"
      ],
      "metadata": {
        "id": "UPaSualZ8OYU"
      }
    },
    {
      "cell_type": "code",
      "source": [
        "import numpy as np\n",
        "import pandas as pd\n",
        "import requests\n",
        "from PIL import Image\n",
        "from io import BytesIO\n",
        "import os\n",
        "import pickle\n",
        "from tensorflow.keras.applications import VGG16\n",
        "from tensorflow.keras.applications.vgg16 import preprocess_input\n",
        "\n",
        "csv_file_path = \"/content/drive/MyDrive/IR_A2_dataset/A2_Data.csv\"\n",
        "df = pd.read_csv(csv_file_path)\n",
        "\n",
        "output_parent_directory = \"normalized_features\"\n",
        "\n",
        "normalized_features_dict = {}\n",
        "\n",
        "for index, row in df.iterrows():\n",
        "    image_links = row['Image']\n",
        "    if isinstance(image_links, str):\n",
        "        image_links = image_links.strip('][').split(', ')\n",
        "        for link in image_links:\n",
        "            try:\n",
        "                response = requests.get(link.strip(\"'\"))\n",
        "                if response.status_code == 200:\n",
        "                    image = Image.open(BytesIO(response.content))\n",
        "                    model = VGG16(weights='imagenet', include_top=False, pooling='avg')\n",
        "                    image = image.resize((224, 224))\n",
        "                    image = np.expand_dims(image, axis=0)\n",
        "                    image = preprocess_input(image)\n",
        "                    features = model.predict(image)\n",
        "                    image_features = features.flatten()\n",
        "                    normalized_features = (image_features - image_features.mean()) / image_features.std()\n",
        "                    normalized_features_dict[link.strip(\"'\")] = normalized_features\n",
        "            except Exception as e:\n",
        "                print(f\"Error processing image from {link}: {e}\")\n",
        "\n",
        "output_file = os.path.join(output_parent_directory, \"final_features.pickle\")\n",
        "with open(output_file, 'wb') as f:\n",
        "    pickle.dump(normalized_features_dict, f)\n"
      ],
      "metadata": {
        "colab": {
          "base_uri": "https://localhost:8080/",
          "height": 389
        },
        "id": "wIqEUM8g7pm-",
        "outputId": "c822fde5-6517-42b9-e7a9-652b4949443e"
      },
      "execution_count": 82,
      "outputs": [
        {
          "output_type": "stream",
          "name": "stdout",
          "text": [
            "1/1 [==============================] - 1s 627ms/step\n"
          ]
        },
        {
          "output_type": "error",
          "ename": "KeyboardInterrupt",
          "evalue": "",
          "traceback": [
            "\u001b[0;31m---------------------------------------------------------------------------\u001b[0m",
            "\u001b[0;31mKeyboardInterrupt\u001b[0m                         Traceback (most recent call last)",
            "\u001b[0;32m<ipython-input-82-b5fcabfab821>\u001b[0m in \u001b[0;36m<cell line: 18>\u001b[0;34m()\u001b[0m\n\u001b[1;32m     29\u001b[0m                     \u001b[0mimage\u001b[0m \u001b[0;34m=\u001b[0m \u001b[0mnp\u001b[0m\u001b[0;34m.\u001b[0m\u001b[0mexpand_dims\u001b[0m\u001b[0;34m(\u001b[0m\u001b[0mimage\u001b[0m\u001b[0;34m,\u001b[0m \u001b[0maxis\u001b[0m\u001b[0;34m=\u001b[0m\u001b[0;36m0\u001b[0m\u001b[0;34m)\u001b[0m\u001b[0;34m\u001b[0m\u001b[0;34m\u001b[0m\u001b[0m\n\u001b[1;32m     30\u001b[0m                     \u001b[0mimage\u001b[0m \u001b[0;34m=\u001b[0m \u001b[0mpreprocess_input\u001b[0m\u001b[0;34m(\u001b[0m\u001b[0mimage\u001b[0m\u001b[0;34m)\u001b[0m\u001b[0;34m\u001b[0m\u001b[0;34m\u001b[0m\u001b[0m\n\u001b[0;32m---> 31\u001b[0;31m                     \u001b[0mfeatures\u001b[0m \u001b[0;34m=\u001b[0m \u001b[0mmodel\u001b[0m\u001b[0;34m.\u001b[0m\u001b[0mpredict\u001b[0m\u001b[0;34m(\u001b[0m\u001b[0mimage\u001b[0m\u001b[0;34m)\u001b[0m\u001b[0;34m\u001b[0m\u001b[0;34m\u001b[0m\u001b[0m\n\u001b[0m\u001b[1;32m     32\u001b[0m                     \u001b[0mimage_features\u001b[0m \u001b[0;34m=\u001b[0m \u001b[0mfeatures\u001b[0m\u001b[0;34m.\u001b[0m\u001b[0mflatten\u001b[0m\u001b[0;34m(\u001b[0m\u001b[0;34m)\u001b[0m\u001b[0;34m\u001b[0m\u001b[0;34m\u001b[0m\u001b[0m\n\u001b[1;32m     33\u001b[0m                     \u001b[0mnormalized_features\u001b[0m \u001b[0;34m=\u001b[0m \u001b[0;34m(\u001b[0m\u001b[0mimage_features\u001b[0m \u001b[0;34m-\u001b[0m \u001b[0mimage_features\u001b[0m\u001b[0;34m.\u001b[0m\u001b[0mmean\u001b[0m\u001b[0;34m(\u001b[0m\u001b[0;34m)\u001b[0m\u001b[0;34m)\u001b[0m \u001b[0;34m/\u001b[0m \u001b[0mimage_features\u001b[0m\u001b[0;34m.\u001b[0m\u001b[0mstd\u001b[0m\u001b[0;34m(\u001b[0m\u001b[0;34m)\u001b[0m\u001b[0;34m\u001b[0m\u001b[0;34m\u001b[0m\u001b[0m\n",
            "\u001b[0;32m/usr/local/lib/python3.10/dist-packages/keras/src/utils/traceback_utils.py\u001b[0m in \u001b[0;36merror_handler\u001b[0;34m(*args, **kwargs)\u001b[0m\n\u001b[1;32m     63\u001b[0m         \u001b[0mfiltered_tb\u001b[0m \u001b[0;34m=\u001b[0m \u001b[0;32mNone\u001b[0m\u001b[0;34m\u001b[0m\u001b[0;34m\u001b[0m\u001b[0m\n\u001b[1;32m     64\u001b[0m         \u001b[0;32mtry\u001b[0m\u001b[0;34m:\u001b[0m\u001b[0;34m\u001b[0m\u001b[0;34m\u001b[0m\u001b[0m\n\u001b[0;32m---> 65\u001b[0;31m             \u001b[0;32mreturn\u001b[0m \u001b[0mfn\u001b[0m\u001b[0;34m(\u001b[0m\u001b[0;34m*\u001b[0m\u001b[0margs\u001b[0m\u001b[0;34m,\u001b[0m \u001b[0;34m**\u001b[0m\u001b[0mkwargs\u001b[0m\u001b[0;34m)\u001b[0m\u001b[0;34m\u001b[0m\u001b[0;34m\u001b[0m\u001b[0m\n\u001b[0m\u001b[1;32m     66\u001b[0m         \u001b[0;32mexcept\u001b[0m \u001b[0mException\u001b[0m \u001b[0;32mas\u001b[0m \u001b[0me\u001b[0m\u001b[0;34m:\u001b[0m\u001b[0;34m\u001b[0m\u001b[0;34m\u001b[0m\u001b[0m\n\u001b[1;32m     67\u001b[0m             \u001b[0mfiltered_tb\u001b[0m \u001b[0;34m=\u001b[0m \u001b[0m_process_traceback_frames\u001b[0m\u001b[0;34m(\u001b[0m\u001b[0me\u001b[0m\u001b[0;34m.\u001b[0m\u001b[0m__traceback__\u001b[0m\u001b[0;34m)\u001b[0m\u001b[0;34m\u001b[0m\u001b[0;34m\u001b[0m\u001b[0m\n",
            "\u001b[0;32m/usr/local/lib/python3.10/dist-packages/keras/src/engine/training.py\u001b[0m in \u001b[0;36mpredict\u001b[0;34m(self, x, batch_size, verbose, steps, callbacks, max_queue_size, workers, use_multiprocessing)\u001b[0m\n\u001b[1;32m   2653\u001b[0m                     \u001b[0;32mfor\u001b[0m \u001b[0mstep\u001b[0m \u001b[0;32min\u001b[0m \u001b[0mdata_handler\u001b[0m\u001b[0;34m.\u001b[0m\u001b[0msteps\u001b[0m\u001b[0;34m(\u001b[0m\u001b[0;34m)\u001b[0m\u001b[0;34m:\u001b[0m\u001b[0;34m\u001b[0m\u001b[0;34m\u001b[0m\u001b[0m\n\u001b[1;32m   2654\u001b[0m                         \u001b[0mcallbacks\u001b[0m\u001b[0;34m.\u001b[0m\u001b[0mon_predict_batch_begin\u001b[0m\u001b[0;34m(\u001b[0m\u001b[0mstep\u001b[0m\u001b[0;34m)\u001b[0m\u001b[0;34m\u001b[0m\u001b[0;34m\u001b[0m\u001b[0m\n\u001b[0;32m-> 2655\u001b[0;31m                         \u001b[0mtmp_batch_outputs\u001b[0m \u001b[0;34m=\u001b[0m \u001b[0mself\u001b[0m\u001b[0;34m.\u001b[0m\u001b[0mpredict_function\u001b[0m\u001b[0;34m(\u001b[0m\u001b[0miterator\u001b[0m\u001b[0;34m)\u001b[0m\u001b[0;34m\u001b[0m\u001b[0;34m\u001b[0m\u001b[0m\n\u001b[0m\u001b[1;32m   2656\u001b[0m                         \u001b[0;32mif\u001b[0m \u001b[0mdata_handler\u001b[0m\u001b[0;34m.\u001b[0m\u001b[0mshould_sync\u001b[0m\u001b[0;34m:\u001b[0m\u001b[0;34m\u001b[0m\u001b[0;34m\u001b[0m\u001b[0m\n\u001b[1;32m   2657\u001b[0m                             \u001b[0mcontext\u001b[0m\u001b[0;34m.\u001b[0m\u001b[0masync_wait\u001b[0m\u001b[0;34m(\u001b[0m\u001b[0;34m)\u001b[0m\u001b[0;34m\u001b[0m\u001b[0;34m\u001b[0m\u001b[0m\n",
            "\u001b[0;32m/usr/local/lib/python3.10/dist-packages/tensorflow/python/util/traceback_utils.py\u001b[0m in \u001b[0;36merror_handler\u001b[0;34m(*args, **kwargs)\u001b[0m\n\u001b[1;32m    148\u001b[0m     \u001b[0mfiltered_tb\u001b[0m \u001b[0;34m=\u001b[0m \u001b[0;32mNone\u001b[0m\u001b[0;34m\u001b[0m\u001b[0;34m\u001b[0m\u001b[0m\n\u001b[1;32m    149\u001b[0m     \u001b[0;32mtry\u001b[0m\u001b[0;34m:\u001b[0m\u001b[0;34m\u001b[0m\u001b[0;34m\u001b[0m\u001b[0m\n\u001b[0;32m--> 150\u001b[0;31m       \u001b[0;32mreturn\u001b[0m \u001b[0mfn\u001b[0m\u001b[0;34m(\u001b[0m\u001b[0;34m*\u001b[0m\u001b[0margs\u001b[0m\u001b[0;34m,\u001b[0m \u001b[0;34m**\u001b[0m\u001b[0mkwargs\u001b[0m\u001b[0;34m)\u001b[0m\u001b[0;34m\u001b[0m\u001b[0;34m\u001b[0m\u001b[0m\n\u001b[0m\u001b[1;32m    151\u001b[0m     \u001b[0;32mexcept\u001b[0m \u001b[0mException\u001b[0m \u001b[0;32mas\u001b[0m \u001b[0me\u001b[0m\u001b[0;34m:\u001b[0m\u001b[0;34m\u001b[0m\u001b[0;34m\u001b[0m\u001b[0m\n\u001b[1;32m    152\u001b[0m       \u001b[0mfiltered_tb\u001b[0m \u001b[0;34m=\u001b[0m \u001b[0m_process_traceback_frames\u001b[0m\u001b[0;34m(\u001b[0m\u001b[0me\u001b[0m\u001b[0;34m.\u001b[0m\u001b[0m__traceback__\u001b[0m\u001b[0;34m)\u001b[0m\u001b[0;34m\u001b[0m\u001b[0;34m\u001b[0m\u001b[0m\n",
            "\u001b[0;32m/usr/local/lib/python3.10/dist-packages/tensorflow/python/eager/polymorphic_function/polymorphic_function.py\u001b[0m in \u001b[0;36m__call__\u001b[0;34m(self, *args, **kwds)\u001b[0m\n\u001b[1;32m    830\u001b[0m \u001b[0;34m\u001b[0m\u001b[0m\n\u001b[1;32m    831\u001b[0m       \u001b[0;32mwith\u001b[0m \u001b[0mOptionalXlaContext\u001b[0m\u001b[0;34m(\u001b[0m\u001b[0mself\u001b[0m\u001b[0;34m.\u001b[0m\u001b[0m_jit_compile\u001b[0m\u001b[0;34m)\u001b[0m\u001b[0;34m:\u001b[0m\u001b[0;34m\u001b[0m\u001b[0;34m\u001b[0m\u001b[0m\n\u001b[0;32m--> 832\u001b[0;31m         \u001b[0mresult\u001b[0m \u001b[0;34m=\u001b[0m \u001b[0mself\u001b[0m\u001b[0;34m.\u001b[0m\u001b[0m_call\u001b[0m\u001b[0;34m(\u001b[0m\u001b[0;34m*\u001b[0m\u001b[0margs\u001b[0m\u001b[0;34m,\u001b[0m \u001b[0;34m**\u001b[0m\u001b[0mkwds\u001b[0m\u001b[0;34m)\u001b[0m\u001b[0;34m\u001b[0m\u001b[0;34m\u001b[0m\u001b[0m\n\u001b[0m\u001b[1;32m    833\u001b[0m \u001b[0;34m\u001b[0m\u001b[0m\n\u001b[1;32m    834\u001b[0m       \u001b[0mnew_tracing_count\u001b[0m \u001b[0;34m=\u001b[0m \u001b[0mself\u001b[0m\u001b[0;34m.\u001b[0m\u001b[0mexperimental_get_tracing_count\u001b[0m\u001b[0;34m(\u001b[0m\u001b[0;34m)\u001b[0m\u001b[0;34m\u001b[0m\u001b[0;34m\u001b[0m\u001b[0m\n",
            "\u001b[0;32m/usr/local/lib/python3.10/dist-packages/tensorflow/python/eager/polymorphic_function/polymorphic_function.py\u001b[0m in \u001b[0;36m_call\u001b[0;34m(self, *args, **kwds)\u001b[0m\n\u001b[1;32m    886\u001b[0m       \u001b[0;31m# This is the first call of __call__, so we have to initialize.\u001b[0m\u001b[0;34m\u001b[0m\u001b[0;34m\u001b[0m\u001b[0m\n\u001b[1;32m    887\u001b[0m       \u001b[0minitializers\u001b[0m \u001b[0;34m=\u001b[0m \u001b[0;34m[\u001b[0m\u001b[0;34m]\u001b[0m\u001b[0;34m\u001b[0m\u001b[0;34m\u001b[0m\u001b[0m\n\u001b[0;32m--> 888\u001b[0;31m       \u001b[0mself\u001b[0m\u001b[0;34m.\u001b[0m\u001b[0m_initialize\u001b[0m\u001b[0;34m(\u001b[0m\u001b[0margs\u001b[0m\u001b[0;34m,\u001b[0m \u001b[0mkwds\u001b[0m\u001b[0;34m,\u001b[0m \u001b[0madd_initializers_to\u001b[0m\u001b[0;34m=\u001b[0m\u001b[0minitializers\u001b[0m\u001b[0;34m)\u001b[0m\u001b[0;34m\u001b[0m\u001b[0;34m\u001b[0m\u001b[0m\n\u001b[0m\u001b[1;32m    889\u001b[0m     \u001b[0;32mfinally\u001b[0m\u001b[0;34m:\u001b[0m\u001b[0;34m\u001b[0m\u001b[0;34m\u001b[0m\u001b[0m\n\u001b[1;32m    890\u001b[0m       \u001b[0;31m# At this point we know that the initialization is complete (or less\u001b[0m\u001b[0;34m\u001b[0m\u001b[0;34m\u001b[0m\u001b[0m\n",
            "\u001b[0;32m/usr/local/lib/python3.10/dist-packages/tensorflow/python/eager/polymorphic_function/polymorphic_function.py\u001b[0m in \u001b[0;36m_initialize\u001b[0;34m(self, args, kwds, add_initializers_to)\u001b[0m\n\u001b[1;32m    693\u001b[0m     )\n\u001b[1;32m    694\u001b[0m     \u001b[0;31m# Force the definition of the function for these arguments\u001b[0m\u001b[0;34m\u001b[0m\u001b[0;34m\u001b[0m\u001b[0m\n\u001b[0;32m--> 695\u001b[0;31m     self._concrete_variable_creation_fn = tracing_compilation.trace_function(\n\u001b[0m\u001b[1;32m    696\u001b[0m         \u001b[0margs\u001b[0m\u001b[0;34m,\u001b[0m \u001b[0mkwds\u001b[0m\u001b[0;34m,\u001b[0m \u001b[0mself\u001b[0m\u001b[0;34m.\u001b[0m\u001b[0m_variable_creation_config\u001b[0m\u001b[0;34m\u001b[0m\u001b[0;34m\u001b[0m\u001b[0m\n\u001b[1;32m    697\u001b[0m     )\n",
            "\u001b[0;32m/usr/local/lib/python3.10/dist-packages/tensorflow/python/eager/polymorphic_function/tracing_compilation.py\u001b[0m in \u001b[0;36mtrace_function\u001b[0;34m(args, kwargs, tracing_options)\u001b[0m\n\u001b[1;32m    176\u001b[0m       \u001b[0mkwargs\u001b[0m \u001b[0;34m=\u001b[0m \u001b[0;34m{\u001b[0m\u001b[0;34m}\u001b[0m\u001b[0;34m\u001b[0m\u001b[0;34m\u001b[0m\u001b[0m\n\u001b[1;32m    177\u001b[0m \u001b[0;34m\u001b[0m\u001b[0m\n\u001b[0;32m--> 178\u001b[0;31m     concrete_function = _maybe_define_function(\n\u001b[0m\u001b[1;32m    179\u001b[0m         \u001b[0margs\u001b[0m\u001b[0;34m,\u001b[0m \u001b[0mkwargs\u001b[0m\u001b[0;34m,\u001b[0m \u001b[0mtracing_options\u001b[0m\u001b[0;34m\u001b[0m\u001b[0;34m\u001b[0m\u001b[0m\n\u001b[1;32m    180\u001b[0m     )\n",
            "\u001b[0;32m/usr/local/lib/python3.10/dist-packages/tensorflow/python/eager/polymorphic_function/tracing_compilation.py\u001b[0m in \u001b[0;36m_maybe_define_function\u001b[0;34m(args, kwargs, tracing_options)\u001b[0m\n\u001b[1;32m    281\u001b[0m         \u001b[0;32melse\u001b[0m\u001b[0;34m:\u001b[0m\u001b[0;34m\u001b[0m\u001b[0;34m\u001b[0m\u001b[0m\n\u001b[1;32m    282\u001b[0m           \u001b[0mtarget_func_type\u001b[0m \u001b[0;34m=\u001b[0m \u001b[0mlookup_func_type\u001b[0m\u001b[0;34m\u001b[0m\u001b[0;34m\u001b[0m\u001b[0m\n\u001b[0;32m--> 283\u001b[0;31m         concrete_function = _create_concrete_function(\n\u001b[0m\u001b[1;32m    284\u001b[0m             \u001b[0mtarget_func_type\u001b[0m\u001b[0;34m,\u001b[0m \u001b[0mlookup_func_context\u001b[0m\u001b[0;34m,\u001b[0m \u001b[0mfunc_graph\u001b[0m\u001b[0;34m,\u001b[0m \u001b[0mtracing_options\u001b[0m\u001b[0;34m\u001b[0m\u001b[0;34m\u001b[0m\u001b[0m\n\u001b[1;32m    285\u001b[0m         )\n",
            "\u001b[0;32m/usr/local/lib/python3.10/dist-packages/tensorflow/python/eager/polymorphic_function/tracing_compilation.py\u001b[0m in \u001b[0;36m_create_concrete_function\u001b[0;34m(function_type, type_context, func_graph, tracing_options)\u001b[0m\n\u001b[1;32m    338\u001b[0m   )\n\u001b[1;32m    339\u001b[0m \u001b[0;34m\u001b[0m\u001b[0m\n\u001b[0;32m--> 340\u001b[0;31m   concrete_function = concrete_function_lib.ConcreteFunction.from_func_graph(\n\u001b[0m\u001b[1;32m    341\u001b[0m       \u001b[0mtraced_func_graph\u001b[0m\u001b[0;34m,\u001b[0m\u001b[0;34m\u001b[0m\u001b[0;34m\u001b[0m\u001b[0m\n\u001b[1;32m    342\u001b[0m       \u001b[0mtraced_func_type\u001b[0m\u001b[0;34m,\u001b[0m\u001b[0;34m\u001b[0m\u001b[0;34m\u001b[0m\u001b[0m\n",
            "\u001b[0;32m/usr/local/lib/python3.10/dist-packages/tensorflow/python/eager/polymorphic_function/concrete_function.py\u001b[0m in \u001b[0;36mfrom_func_graph\u001b[0;34m(cls, graph, function_type, attrs, shared_func_graph)\u001b[0m\n\u001b[1;32m   1074\u001b[0m   \u001b[0;34m@\u001b[0m\u001b[0mclassmethod\u001b[0m\u001b[0;34m\u001b[0m\u001b[0;34m\u001b[0m\u001b[0m\n\u001b[1;32m   1075\u001b[0m   \u001b[0;32mdef\u001b[0m \u001b[0mfrom_func_graph\u001b[0m\u001b[0;34m(\u001b[0m\u001b[0mcls\u001b[0m\u001b[0;34m,\u001b[0m \u001b[0mgraph\u001b[0m\u001b[0;34m,\u001b[0m \u001b[0mfunction_type\u001b[0m\u001b[0;34m,\u001b[0m \u001b[0mattrs\u001b[0m\u001b[0;34m,\u001b[0m \u001b[0mshared_func_graph\u001b[0m\u001b[0;34m=\u001b[0m\u001b[0;32mTrue\u001b[0m\u001b[0;34m)\u001b[0m\u001b[0;34m:\u001b[0m\u001b[0;34m\u001b[0m\u001b[0;34m\u001b[0m\u001b[0m\n\u001b[0;32m-> 1076\u001b[0;31m     atomic_fn = atomic_function.from_func_graph(\n\u001b[0m\u001b[1;32m   1077\u001b[0m         \u001b[0m_inference_name\u001b[0m\u001b[0;34m(\u001b[0m\u001b[0mgraph\u001b[0m\u001b[0;34m.\u001b[0m\u001b[0mname\u001b[0m\u001b[0;34m)\u001b[0m\u001b[0;34m,\u001b[0m \u001b[0mgraph\u001b[0m\u001b[0;34m,\u001b[0m \u001b[0mattrs\u001b[0m\u001b[0;34m,\u001b[0m \u001b[0mfunction_type\u001b[0m\u001b[0;34m\u001b[0m\u001b[0;34m\u001b[0m\u001b[0m\n\u001b[1;32m   1078\u001b[0m     )\n",
            "\u001b[0;32m/usr/local/lib/python3.10/dist-packages/tensorflow/python/eager/polymorphic_function/atomic_function.py\u001b[0m in \u001b[0;36mfrom_func_graph\u001b[0;34m(name, graph, attrs, function_type, overwrite)\u001b[0m\n\u001b[1;32m    535\u001b[0m     \u001b[0moutput_names\u001b[0m \u001b[0;34m=\u001b[0m \u001b[0;34m[\u001b[0m\u001b[0;34m]\u001b[0m\u001b[0;34m\u001b[0m\u001b[0;34m\u001b[0m\u001b[0m\n\u001b[1;32m    536\u001b[0m   \u001b[0;32mwith\u001b[0m \u001b[0mgraph\u001b[0m\u001b[0;34m.\u001b[0m\u001b[0m_c_graph\u001b[0m\u001b[0;34m.\u001b[0m\u001b[0mget\u001b[0m\u001b[0;34m(\u001b[0m\u001b[0;34m)\u001b[0m \u001b[0;32mas\u001b[0m \u001b[0mc_graph\u001b[0m\u001b[0;34m:\u001b[0m  \u001b[0;31m# pylint: disable=protected-access\u001b[0m\u001b[0;34m\u001b[0m\u001b[0;34m\u001b[0m\u001b[0m\n\u001b[0;32m--> 537\u001b[0;31m     fn = pywrap_tf_session.TF_GraphToFunction_wrapper(\n\u001b[0m\u001b[1;32m    538\u001b[0m         \u001b[0mc_graph\u001b[0m\u001b[0;34m,\u001b[0m\u001b[0;34m\u001b[0m\u001b[0;34m\u001b[0m\u001b[0m\n\u001b[1;32m    539\u001b[0m         \u001b[0mcompat\u001b[0m\u001b[0;34m.\u001b[0m\u001b[0mas_str\u001b[0m\u001b[0;34m(\u001b[0m\u001b[0mname\u001b[0m\u001b[0;34m)\u001b[0m\u001b[0;34m,\u001b[0m\u001b[0;34m\u001b[0m\u001b[0;34m\u001b[0m\u001b[0m\n",
            "\u001b[0;31mKeyboardInterrupt\u001b[0m: "
          ]
        }
      ]
    },
    {
      "cell_type": "code",
      "source": [
        "with open(\"final_features.pkl\", 'wb') as f:\n",
        "    pickle.dump(normalized_features_dict, f)"
      ],
      "metadata": {
        "id": "onWycGMJHRkW"
      },
      "execution_count": 83,
      "outputs": []
    },
    {
      "cell_type": "code",
      "source": [
        "import nltk\n",
        "nltk.download('punkt')\n",
        "nltk.download('stopwords')\n",
        "nltk.download('wordnet')\n",
        "\n",
        "import pandas as pd\n",
        "import nltk\n",
        "from nltk.tokenize import word_tokenize\n",
        "from nltk.corpus import stopwords\n",
        "from bs4 import BeautifulSoup\n",
        "from nltk.stem import PorterStemmer, WordNetLemmatizer\n",
        "import re\n",
        "import string\n",
        "\n",
        "df = pd.read_csv('/content/drive/MyDrive/IR_A2_dataset/A2_Data.csv')\n",
        "\n",
        "preprocessed_data = {}\n",
        "\n",
        "def preprocess_text(text):\n",
        "    soup_obj = BeautifulSoup(text, 'html.parser')\n",
        "    text = soup_obj.get_text()\n",
        "\n",
        "    text = text.lower()\n",
        "\n",
        "    tokens = word_tokenize(text)\n",
        "    tokens = [word.strip(string.punctuation) for word in tokens if word.strip(string.punctuation)]\n",
        "\n",
        "    tokens = [word for word in tokens if not re.match(r'\\d', word)]\n",
        "\n",
        "    stop_words = set(stopwords.words('english'))\n",
        "    tokens = [word for word in tokens if word not in stop_words]\n",
        "\n",
        "    lemmatizer = WordNetLemmatizer()\n",
        "    tokens = [lemmatizer.lemmatize(word) for word in tokens]\n",
        "\n",
        "    stemmer = PorterStemmer()\n",
        "    tokens = [stemmer.stem(word) for word in tokens]\n",
        "\n",
        "    return ' '.join(tokens)\n",
        "\n"
      ],
      "metadata": {
        "colab": {
          "base_uri": "https://localhost:8080/"
        },
        "id": "OtaaG2nU-Tcr",
        "outputId": "cdfc3b35-ecd7-4f3d-cfbc-a1bd56565df4"
      },
      "execution_count": 4,
      "outputs": [
        {
          "output_type": "stream",
          "name": "stderr",
          "text": [
            "[nltk_data] Downloading package punkt to /root/nltk_data...\n",
            "[nltk_data]   Unzipping tokenizers/punkt.zip.\n",
            "[nltk_data] Downloading package stopwords to /root/nltk_data...\n",
            "[nltk_data]   Unzipping corpora/stopwords.zip.\n",
            "[nltk_data] Downloading package wordnet to /root/nltk_data...\n"
          ]
        }
      ]
    },
    {
      "cell_type": "code",
      "source": [
        "\n",
        "def calculate_tf_idf(documents):\n",
        "\n",
        "    tf = []\n",
        "    for document in documents:\n",
        "        term_frequency = {}\n",
        "        token_counts = Counter(document)\n",
        "        for token, count in token_counts.items():\n",
        "            term_frequency[token] = count / len(document)\n",
        "        tf.append(term_frequency)\n",
        "\n",
        "    # Calculate document frequency (DF)\n",
        "    document_frequency = Counter()\n",
        "    for document in documents:\n",
        "        unique_tokens = set(document)\n",
        "        document_frequency.update(unique_tokens)\n",
        "\n",
        "    # Calculate inverse document frequency (IDF)\n",
        "    idf = {}\n",
        "    total_documents = len(documents)\n",
        "    for token, count in document_frequency.items():\n",
        "        idf[token] = math.log(total_documents / count)\n",
        "\n",
        "    # Calculate TF-IDF scores\n",
        "    tf_idf = []\n",
        "    for term_frequency_doc in tf:\n",
        "        tf_idf_doc = {}\n",
        "        for token, tf_value in term_frequency_doc.items():\n",
        "            tf_idf_doc[token] = tf_value * idf[token]\n",
        "        tf_idf.append(tf_idf_doc)\n",
        "\n",
        "    return tf_idf\n",
        "\n",
        "# Preprocess text\n",
        "preprocessed_documents = []\n",
        "for review in df['Review Text']:\n",
        "    preprocessed_review = preprocess_text(review)\n",
        "    preprocessed_documents.append(preprocessed_review)\n",
        "\n",
        "tf_idf_scores = calculate_tf_idf(preprocessed_documents)\n",
        "\n",
        "product_tf_idf_dict = {}\n",
        "\n",
        "for i, scores in enumerate(tf_idf_scores):\n",
        "    product_id = df.loc[i, 'Index']\n",
        "    product_tf_idf_dict[product_id] = scores\n",
        "\n",
        "output_dir = \"/content/drive/MyDrive/IR_A2_dataset/tf-idf\"\n",
        "\n",
        "if not os.path.exists(output_dir):\n",
        "    os.makedirs(output_dir)\n",
        "\n",
        "output_file_pickle = os.path.join(output_dir, 'tf_idf_scores_2.pkl')\n",
        "output_file_text = os.path.join(output_dir, 'tf_idf_scores_2.txt')\n",
        "\n",
        "with open(output_file_pickle, 'wb') as f_pickle:\n",
        "    pickle.dump(product_tf_idf_dict, f_pickle)\n",
        "\n",
        "pickle_data_str = \"\"\n",
        "with open(output_file_pickle, 'rb') as f_pickle:\n",
        "    pickle_data_str = str(f_pickle.read())\n",
        "\n",
        "with open(output_file_text, 'w') as f_text:\n",
        "    f_text.write(pickle_data_str)\n",
        "\n",
        "if not os.path.exists(output_dir):\n",
        "    os.makedirs(output_dir)\n",
        "\n",
        "with open(output_file_text, 'w') as f_text:\n",
        "    for product_id, scores in product_tf_idf_dict.items():\n",
        "        f_text.write(f\"Product ID: {product_id}\\n\")\n",
        "        for token, score in scores.items():\n",
        "            f_text.write(f\"{token}: {score}\\n\")\n",
        "        f_text.write(\"\\n\")\n",
        "\n",
        "with open(output_file_pickle, 'rb') as f_pickle:\n",
        "    loaded_tfidf = pickle.load(f_pickle)\n",
        "\n",
        "print(\"The Tf-idf scores are saved and loaded from pickle file\")"
      ],
      "metadata": {
        "id": "7kKPTgl5-orR"
      },
      "execution_count": null,
      "outputs": []
    },
    {
      "cell_type": "code",
      "source": [
        "import pickle\n",
        "\n",
        "save_path = \"/content/drive/MyDrive/IR_A2_dataset/final_normalized.pkl\"\n",
        "\n",
        "with open(save_path, 'rb') as f:\n",
        "    ff = pickle.load(f)\n",
        "\n",
        "tf_idf_path = \"/content/drive/MyDrive/IR_A2_dataset/tf-idf/tf_idf_scores.pkl\"\n",
        "\n",
        "with open(tf_idf_path, 'rb') as f:\n",
        "    tfidf = pickle.load(f)"
      ],
      "metadata": {
        "id": "JnazEz2pBXUz"
      },
      "execution_count": null,
      "outputs": []
    },
    {
      "cell_type": "markdown",
      "source": [
        "3(a)"
      ],
      "metadata": {
        "id": "mKEMXzRAHHoA"
      }
    },
    {
      "cell_type": "code",
      "source": [
        "csv_path = \"/content/drive/MyDrive/IR_A2_dataset/A2_Data.csv\"\n",
        "features_dict_path = \"/content/drive/MyDrive/IR_A2_dataset/final_normalized.pickle\"\n",
        "output_file_path = \"/content/drive/MyDrive/IR_A2_dataset/q3_a_results.txt\"\n",
        "csv_file_path = \"/content/drive/MyDrive/IR_A2_dataset/A2_Data.csv\""
      ],
      "metadata": {
        "id": "m1AkYwWM9m_y"
      },
      "execution_count": 84,
      "outputs": []
    },
    {
      "cell_type": "code",
      "source": [
        "\n",
        "popo = pd.read_csv(csv_path)\n",
        "popo['Image'] = popo['Image'].apply(lambda x: x.strip(\"[]\").replace(\"'\", \"\").split(', '))\n",
        "popo = popo.explode('Image')\n",
        "\n",
        "\n",
        "with open(features_dict_path, 'rb') as f:\n",
        "    features_dict = pickle.load(f)\n",
        "\n",
        "def get_input_features(input_image_url, features_dict):\n",
        "    if input_image_url in features_dict:\n",
        "        return features_dict[input_image_url]\n",
        "    else:\n",
        "        print(\"Input URL not found in the precomputed features dictionary.\")\n",
        "        return None\n"
      ],
      "metadata": {
        "id": "_Tmj-a8Jathe"
      },
      "execution_count": 85,
      "outputs": []
    },
    {
      "cell_type": "code",
      "source": [
        "input_image_url = input(\"Enter the URL of the image: \")\n",
        "input_text = input(\"Enter the review text: \")\n",
        "\n",
        "input_features = get_input_features(input_image_url, features_dict)\n",
        "if input_features is None:\n",
        "    exit()\n",
        "\n",
        "print(\"\\nComparing input URL with the following URLs from the CSV:\")\n",
        "\n",
        "sim_scoress = []\n",
        "\n",
        "input_image_url_stripped = input_image_url.strip(\"[]\").replace(\"'\", \"\")\n",
        "\n",
        "for url, target_features in features_dict.items():\n",
        "    url_stripped = url.strip(\"[]\").replace(\"'\", \"\")\n",
        "    input_feature = [input_features]\n",
        "    target_feature = [target_features]\n",
        "    ss_score = cosine_similarity(input_feature, target_feature)[0][0]\n",
        "    sim_scoress.append((url_stripped, ss_score))\n",
        "\n",
        "sim_scoress.sort(key=lambda x: x[1], reverse=True)\n",
        "\n",
        "print(\"\\nTop 3 similar URLs:\")\n",
        "for i in range(min(3, len(sim_scoress))):\n",
        "    url, score = sim_scoress[i]\n",
        "    print(f\"URL: {url}, Similarity Score: {score}\")\n"
      ],
      "metadata": {
        "colab": {
          "base_uri": "https://localhost:8080/"
        },
        "id": "jdWKeaLyatjh",
        "outputId": "7e6fb215-8369-4c9d-a3c8-71e1a37567f2"
      },
      "execution_count": 86,
      "outputs": [
        {
          "output_type": "stream",
          "name": "stdout",
          "text": [
            "Enter the URL of the image: https://images-na.ssl-images-amazon.com/images/I/71bztfqdg+L._SY88.jpg\n",
            "Enter the review text: I have been using Fender locking tuners for about five years on various strats and teles. Definitely helps with tuning stability and way faster to restring if there is a break.\n",
            "\n",
            "Comparing input URL with the following URLs from the CSV:\n",
            "\n",
            "Top 3 similar URLs:\n",
            "URL: https://images-na.ssl-images-amazon.com/images/I/71bztfqdg+L._SY88.jpg, Similarity Score: 1.0\n",
            "URL: https://images-na.ssl-images-amazon.com/images/I/719-SDMiOoL._SY88.jpg, Similarity Score: 0.7386159896850586\n",
            "URL: https://images-na.ssl-images-amazon.com/images/I/711kGbkdzEL._SY88.jpg, Similarity Score: 0.6478695273399353\n"
          ]
        }
      ]
    },
    {
      "cell_type": "code",
      "source": [
        "ids_with_nan_reviews = popo[popo['Review Text'].isnull()].index\n",
        "print(ids_with_nan_reviews)\n"
      ],
      "metadata": {
        "colab": {
          "base_uri": "https://localhost:8080/"
        },
        "id": "xZqOT1D6-MVY",
        "outputId": "8ae2abd3-93eb-457f-df22-2bc3c4e1475e"
      },
      "execution_count": 87,
      "outputs": [
        {
          "output_type": "stream",
          "name": "stdout",
          "text": [
            "Int64Index([828], dtype='int64')\n"
          ]
        }
      ]
    },
    {
      "cell_type": "code",
      "source": [
        "top_3_urls = [url for url, _ in sim_scoress[:3]]\n",
        "top_3_similarity_scores = [score for _, score in sim_scoress[:3]]\n",
        "\n",
        "top_3_review_texts = [popo[popo['Image'] == url].iloc[0]['Review Text'] if not popo[popo['Image'] == url].empty else \"No review text found\" for url in top_3_urls]\n",
        "\n",
        "import pandas as pd\n",
        "\n",
        "popo['Review Text'].fillna('', inplace=True)\n",
        "\n",
        "from sklearn.feature_extraction.text import TfidfVectorizer\n",
        "from sklearn.metrics.pairwise import cosine_similarity\n",
        "\n",
        "def fit_transform_tfidf(review_texts):\n",
        "    tfidf_vectorizer = TfidfVectorizer()\n",
        "    text_features = tfidf_vectorizer.fit_transform(review_texts)\n",
        "    return tfidf_vectorizer, text_features\n",
        "\n",
        "def transform_input_text(input_text, tfidf_vectorizer):\n",
        "    input_text_features = tfidf_vectorizer.transform([input_text])\n",
        "    return input_text_features\n",
        "\n",
        "def calculate_similarity(input_text_features, top_texts_features):\n",
        "    similarity_scores = cosine_similarity(input_text_features, top_texts_features)[0]\n",
        "    return similarity_scores\n",
        "\n",
        "tfidf_vectorizer, text_features = fit_transform_tfidf(popo['Review Text'])\n",
        "\n",
        "# Then transform the input text\n",
        "input_text_features = transform_input_text(input_review_text, tfidf_vectorizer)\n",
        "\n",
        "# Transform top 3 review texts\n",
        "top_3_text_features = tfidf_vectorizer.transform(top_3_review_texts)\n",
        "\n",
        "# Calculate similarity scores\n",
        "text_similarity_scores = calculate_similarity(input_text_features, top_3_text_features)\n",
        "\n",
        "# Print results\n",
        "print(\"\\nCorresponding review texts and Scores: \")\n",
        "for text, score in zip(top_3_review_texts, text_similarity_scores):\n",
        "    print(f\"review Text: {text}, cosine similarity score: {score}\")\n",
        "\n"
      ],
      "metadata": {
        "colab": {
          "base_uri": "https://localhost:8080/"
        },
        "id": "nMqa0MctatmR",
        "outputId": "fb651889-7cdb-4ec5-9229-3c2fb11b59ea"
      },
      "execution_count": 89,
      "outputs": [
        {
          "output_type": "stream",
          "name": "stdout",
          "text": [
            "\n",
            "Corresponding review texts and Scores: \n",
            "review Text: I have been using Fender locking tuners for about five years on various strats and teles. Definitely helps with tuning stability and way faster to restring if there is a break., cosine similarity score: 1.0\n",
            "review Text: These locking tuners look great and keep tune.  Good quality materials and construction.  Excellent upgrade to any guitar.  I had to drill additions holes for installation.  If your neck already comes with pre-drilled holes, then they should drop right in, otherwise you will need to buy a guitar tuner pin drill jig, also available from Amazon., cosine similarity score: 0.09694063189150576\n",
            "review Text: Had to drill into my headstock. Needs 2 holes per tree because of the mounting peg. Use a ruler and a 1/16 drillbit and you'll be fine. I recommend installing with the strings on so you can set them properly., cosine similarity score: 0.023202953993436082\n"
          ]
        }
      ]
    },
    {
      "cell_type": "code",
      "source": [
        "import numpy as np\n",
        "\n",
        "def write_output_to_file(output_file_path, top_3_urls, top_3_review_texts, text_similarity_scores):\n",
        "    with open(output_file_path, 'w') as f:\n",
        "        for url, review_text, similarity_score in zip(top_3_urls, top_3_review_texts, text_similarity_scores):\n",
        "            f.write(\"URL: {}\\n\".format(url))\n",
        "            f.write(\"Review Text: {}\\n\".format(review_text))\n",
        "            f.write(\"Similarity Score: {}\\n\".format(similarity_score))\n",
        "            f.write(\"\\n\")\n",
        "\n",
        "    print(f\"\\ntop image-text pairs saved to {output_file_path}\")\n",
        "\n",
        "def print_output_matrix(top_3_urls, top_3_similarity_scores, top_3_review_texts, text_similarity_scores):\n",
        "    output_matrix = np.array([\n",
        "        [url, sim_score, review_text, text_sim_score]\n",
        "        for url, sim_score, review_text, text_sim_score\n",
        "        in zip(top_3_urls, top_3_similarity_scores, top_3_review_texts, text_similarity_scores)], dtype=object)\n",
        "\n",
        "    # Print the output matrix\n",
        "    for row in output_matrix:\n",
        "        print(\"URL:\", row[0])\n",
        "        print(\"Similarity Score:\", row[1])\n",
        "        print(\"Review Text:\", row[2])\n",
        "        print(\"Text Similarity Score:\", row[3])\n",
        "        print()\n",
        "\n",
        "# Assuming top_3_urls, top_3_review_texts, text_similarity_scores are already defined\n",
        "\n",
        "output_file_path = \"output.txt\"\n",
        "\n",
        "# Call the functions\n",
        "write_output_to_file(output_file_path, top_3_urls, top_3_review_texts, text_similarity_scores)\n",
        "print_output_matrix(top_3_urls, top_3_similarity_scores, top_3_review_texts, text_similarity_scores)\n",
        "\n",
        "\n",
        "output_pickle_file_path = \"Q3_a.pickle\"\n",
        "\n",
        "import pickle\n",
        "with open(output_pickle_file_path, 'wb') as f:\n",
        "    pickle.dump(output_matrix, f)\n",
        "\n",
        "print(f\"\\nOutput saved to {output_pickle_file_path} as a pickle file.\")\n"
      ],
      "metadata": {
        "colab": {
          "base_uri": "https://localhost:8080/"
        },
        "id": "F4TDZW9hatpQ",
        "outputId": "eb2bd17c-0166-4dda-ac65-2121116ef51e"
      },
      "execution_count": 90,
      "outputs": [
        {
          "output_type": "stream",
          "name": "stdout",
          "text": [
            "\n",
            "top image-text pairs saved to output.txt\n",
            "URL: https://images-na.ssl-images-amazon.com/images/I/71bztfqdg+L._SY88.jpg\n",
            "Similarity Score: 1.0\n",
            "Review Text: I have been using Fender locking tuners for about five years on various strats and teles. Definitely helps with tuning stability and way faster to restring if there is a break.\n",
            "Text Similarity Score: 1.0\n",
            "\n",
            "URL: https://images-na.ssl-images-amazon.com/images/I/719-SDMiOoL._SY88.jpg\n",
            "Similarity Score: 0.738616\n",
            "Review Text: These locking tuners look great and keep tune.  Good quality materials and construction.  Excellent upgrade to any guitar.  I had to drill additions holes for installation.  If your neck already comes with pre-drilled holes, then they should drop right in, otherwise you will need to buy a guitar tuner pin drill jig, also available from Amazon.\n",
            "Text Similarity Score: 0.09694063189150576\n",
            "\n",
            "URL: https://images-na.ssl-images-amazon.com/images/I/711kGbkdzEL._SY88.jpg\n",
            "Similarity Score: 0.6478695\n",
            "Review Text: Had to drill into my headstock. Needs 2 holes per tree because of the mounting peg. Use a ruler and a 1/16 drillbit and you'll be fine. I recommend installing with the strings on so you can set them properly.\n",
            "Text Similarity Score: 0.023202953993436082\n",
            "\n",
            "\n",
            "Output saved to Q3_a.pickle as a pickle file.\n"
          ]
        }
      ]
    },
    {
      "cell_type": "markdown",
      "source": [
        "3(b)"
      ],
      "metadata": {
        "id": "9q7qHSgcb6n1"
      }
    },
    {
      "cell_type": "code",
      "source": [
        "\n",
        "\n",
        "\n",
        "df = pd.read_csv(csv_file_path)\n",
        "\n",
        "input_image_url = input(\"Enter the URL of the image: \")\n",
        "input_text = input(\"Enter the review text: \")\n",
        "\n",
        "\n",
        "try:\n",
        "    response = requests.get(input_image_url)\n",
        "    if response.status_code == 200:\n",
        "        input_image = Image.open(BytesIO(response.content))\n",
        "    else:\n",
        "        print(\"Failed input\")\n",
        "        input_image = None\n",
        "except Exception as e:\n",
        "    print(f\"Error: {e}\")\n",
        "    input_image = None\n",
        "\n",
        "if input_image is not None:\n",
        "    model = VGG16(weights='imagenet', include_top=False, pooling='avg')\n",
        "    input_image = input_image.resize((224, 224))\n",
        "    input_image = np.expand_dims(input_image, axis=0)\n",
        "    input_image = preprocess_input(input_image)\n",
        "    input_features = model.predict(input_image).flatten()\n",
        "    input_features = (input_features - input_features.mean()) / input_features.std()\n",
        "\n",
        "    df['Review Text'].fillna('', inplace=True)\n",
        "    tfidf_vectorizer = TfidfVectorizer()\n",
        "    text_features = tfidf_vectorizer.fit_transform(df['Review Text'])\n",
        "    inp_feat = tfidf_vectorizer.transform([input_text])\n",
        "\n",
        "    same_text = [cosine_similarity(inp_feat, text_features[i])[0][0] for i in range(len(df))]\n",
        "\n",
        "    ranked_3 = np.argsort(same_text)[::-1][:3]\n",
        "    output_matrix = []\n",
        "\n",
        "    counter = 0\n",
        "\n",
        "    for index in ranked_3:\n",
        "        review_text = df.loc[index, 'Review Text']\n",
        "        review_similarity_score = same_text[index]\n",
        "\n",
        "        image_links = [link.strip().strip(\"[]\").strip(\"'\") for link in df.loc[index, 'Image'].split(',')]\n",
        "        for link in image_links:\n",
        "            try:\n",
        "                response = requests.get(link)\n",
        "                if response.status_code == 200:\n",
        "                    tgt_imgi = Image.open(BytesIO(response.content))\n",
        "                else:\n",
        "                    print(\"Failed image.\")\n",
        "                    continue\n",
        "            except Exception as e:\n",
        "                print(f\"image download error {link}: {e}\")\n",
        "                continue\n",
        "\n",
        "            if tgt_imgi:\n",
        "                tgt_imgi_array = np.array(tgt_imgi)\n",
        "\n",
        "                # Display the image\n",
        "                plt.imshow(tgt_imgi_array)\n",
        "                plt.axis('off')\n",
        "                plt.show()\n",
        "\n",
        "                tgt_imgi = tgt_imgi.resize((224, 224))\n",
        "                tgt_imgi = np.expand_dims(tgt_imgi, axis=0)\n",
        "                tgt_imgi = preprocess_input(tgt_imgi)\n",
        "                target_features = model.predict(tgt_imgi).flatten()\n",
        "                target_features = (target_features - target_features.mean()) / target_features.std()\n",
        "                similarity_score = cosine_similarity(input_features.reshape(1, -1), target_features.reshape(1, -1))[0][0]\n",
        "                output_matrix.append([review_text, review_similarity_score, link, similarity_score])\n",
        "\n",
        "                print(\"Review Text:\", review_text)\n",
        "                print(\"Review Similarity Score:\", review_similarity_score)\n",
        "                print(\"Image URL:\", link)\n",
        "                print(\"Image Similarity Score:\", similarity_score)\n",
        "                print()\n",
        "\n",
        "                counter += 1\n",
        "\n",
        "                if counter == 3:\n",
        "                    break\n",
        "            else:\n",
        "                print(\"Failed to download the image.\")\n",
        "\n",
        "\n"
      ],
      "metadata": {
        "colab": {
          "base_uri": "https://localhost:8080/",
          "height": 1000
        },
        "id": "a9m2KV7IrcFw",
        "outputId": "9f011c62-f00d-4386-e40f-2f7e6456ab72"
      },
      "execution_count": 91,
      "outputs": [
        {
          "output_type": "stream",
          "name": "stdout",
          "text": [
            "Enter the URL of the image: https://images-na.ssl-images-amazon.com/images/I/71bztfqdg+L._SY88.jpg\n",
            "Enter the review text: I have been using Fender locking tuners for about five years on various strats and teles. Definitely helps with tuning stability and way faster to restring if there is a break.\n",
            "1/1 [==============================] - 1s 616ms/step\n"
          ]
        },
        {
          "output_type": "display_data",
          "data": {
            "text/plain": [
              "<Figure size 640x480 with 1 Axes>"
            ],
            "image/png": "[encoded data removed]"
          },
          "metadata": {}
        },
        {
          "output_type": "stream",
          "name": "stdout",
          "text": [
            "1/1 [==============================] - 0s 498ms/step\n",
            "Review Text: I have been using Fender locking tuners for about five years on various strats and teles. Definitely helps with tuning stability and way faster to restring if there is a break.\n",
            "Review Similarity Score: 1.0\n",
            "Image URL: https://images-na.ssl-images-amazon.com/images/I/71bztfqdg+L._SY88.jpg\n",
            "Image Similarity Score: 0.9999999\n",
            "\n"
          ]
        },
        {
          "output_type": "display_data",
          "data": {
            "text/plain": [
              "<Figure size 640x480 with 1 Axes>"
            ],
            "image/png": "[encoded data removed]"
          },
          "metadata": {}
        },
        {
          "output_type": "stream",
          "name": "stdout",
          "text": [
            "1/1 [==============================] - 0s 496ms/step\n",
            "Review Text: I went from fender chrome non-locking to fender gold locking. It made my guitar look beautiful and play beautiful. I think locking tuners are the way to go. If you are new to locking tuners look on YouTube for instructions.\n",
            "Review Similarity Score: 0.30316601726909753\n",
            "Image URL: https://images-na.ssl-images-amazon.com/images/I/61DvLcapd8L._SY88.jpg\n",
            "Image Similarity Score: 0.17228964\n",
            "\n"
          ]
        },
        {
          "output_type": "display_data",
          "data": {
            "text/plain": [
              "<Figure size 640x480 with 1 Axes>"
            ],
            "image/png": "[encoded data removed]"
          },
          "metadata": {}
        },
        {
          "output_type": "stream",
          "name": "stdout",
          "text": [
            "1/1 [==============================] - 0s 487ms/step\n",
            "Review Text: Just out these beauty's on my Mitchell and they are perfect. I wanted to add character to my guitar and this definitely helps.\n",
            "Review Similarity Score: 0.14996940865985417\n",
            "Image URL: https://images-na.ssl-images-amazon.com/images/I/71e7ns5jvJL._SY88.jpg\n",
            "Image Similarity Score: 0.2500558\n",
            "\n"
          ]
        }
      ]
    },
    {
      "cell_type": "code",
      "source": [
        "    output_pickle_file_path = \"Q3_b.pickle\"\n",
        "\n",
        "    with open(output_pickle_file_path, 'wb') as f:\n",
        "        pickle.dump(output_matrix, f)\n",
        "\n",
        "    print(f\"Output saved to {output_pickle_file_path} as a pickle file.\")"
      ],
      "metadata": {
        "colab": {
          "base_uri": "https://localhost:8080/"
        },
        "id": "9U1tM_XMDq70",
        "outputId": "4c432ded-8035-4918-c4c8-b1c28dc20bd1"
      },
      "execution_count": 92,
      "outputs": [
        {
          "output_type": "stream",
          "name": "stdout",
          "text": [
            "Output saved to Q3_b.pickle as a pickle file.\n"
          ]
        }
      ]
    },
    {
      "cell_type": "markdown",
      "source": [
        "Q4"
      ],
      "metadata": {
        "id": "xwfBxKi6lenQ"
      }
    },
    {
      "cell_type": "code",
      "source": [
        "import pickle\n",
        "import numpy as np\n",
        "\n",
        "def load_matrices(file_path_a, file_path_b):\n",
        "    with open(file_path_a, 'rb') as f:\n",
        "        matrix_a = pickle.load(f)\n",
        "\n",
        "    with open(file_path_b, 'rb') as f:\n",
        "        matrix_b = pickle.load(f)\n",
        "\n",
        "    return matrix_a, matrix_b\n",
        "\n",
        "def combine_matrices(matrix_a, matrix_b):\n",
        "    matter = np.vstack((matrix_a, matrix_b))\n",
        "    return matter\n",
        "\n",
        "def swap_columns(matrix):\n",
        "    matrix[3:, [0, 2]] = matrix[3:, [2, 0]]\n",
        "    matrix[3:, [1, 3]] = matrix[3:, [3, 1]]\n",
        "    return matrix\n",
        "\n",
        "def calculate_average(matrix):\n",
        "    avg_val = (matrix[:, 1].astype(float) + matrix[:, 3].astype(float)) / 2\n",
        "    matrix = np.insert(matrix, 4, avg_val, axis=1)\n",
        "    return matrix\n",
        "\n",
        "def sort_matrix(matrix):\n",
        "    sorted_indices = np.argsort(matrix[:, 4])[::-1]\n",
        "    sorted_matrix = matrix[sorted_indices]\n",
        "    return sorted_matrix\n",
        "\n",
        "def print_results(sorted_matrix):\n",
        "    for index, row in enumerate(sorted_matrix, start=1):\n",
        "        url = row[0]\n",
        "        url_similarity = row[1]\n",
        "        review_text = row[2]\n",
        "        review_similarity = row[3]\n",
        "        composite_score = row[4]\n",
        "\n",
        "        print(f\"Order: {index}\")\n",
        "        print(f\"URL: {url}\")\n",
        "        print(f\"Similarity with Input URL: {url_similarity}\")\n",
        "        print(f\"Review Text: {review_text}\")\n",
        "        print(f\"Similarity with Input Review Text: {review_similarity}\")\n",
        "        print(f\"Composite Score: {composite_score}\\n\")\n",
        "\n",
        "if __name__ == \"__main__\":\n",
        "    pickle_file_path_a = \"output_results_a.pickle\"\n",
        "    pickle_file_path_b = \"Q3_b.pickle\"\n",
        "\n",
        "    matrix_a, matrix_b = load_matrices(pickle_file_path_a, pickle_file_path_b)\n",
        "    master_matrix = combine_matrices(matrix_a, matrix_b)\n",
        "    master_matrix = swap_columns(master_matrix)\n",
        "    master_matrix = calculate_average(master_matrix)\n",
        "    sorted_matrix = sort_matrix(master_matrix)\n",
        "    print_results(sorted_matrix)\n"
      ],
      "metadata": {
        "colab": {
          "base_uri": "https://localhost:8080/"
        },
        "id": "lm7sDtv8lz2G",
        "outputId": "993f8261-4fe6-4d70-8b9b-c078aab314e8"
      },
      "execution_count": 93,
      "outputs": [
        {
          "output_type": "stream",
          "name": "stdout",
          "text": [
            "Order: 1\n",
            "URL: https://images-na.ssl-images-amazon.com/images/I/71bztfqdg+L._SY88.jpg\n",
            "Similarity with Input URL: 1.0\n",
            "Review Text: I have been using Fender locking tuners for about five years on various strats and teles. Definitely helps with tuning stability and way faster to restring if there is a break.\n",
            "Similarity with Input Review Text: 1.0\n",
            "Composite Score: 1.0\n",
            "\n",
            "Order: 2\n",
            "URL: https://images-na.ssl-images-amazon.com/images/I/71bztfqdg+L._SY88.jpg\n",
            "Similarity with Input URL: 0.9999999\n",
            "Review Text: I have been using Fender locking tuners for about five years on various strats and teles. Definitely helps with tuning stability and way faster to restring if there is a break.\n",
            "Similarity with Input Review Text: 1.0\n",
            "Composite Score: 0.9999999500000001\n",
            "\n",
            "Order: 3\n",
            "URL: https://images-na.ssl-images-amazon.com/images/I/719-SDMiOoL._SY88.jpg\n",
            "Similarity with Input URL: 0.7386159896850586\n",
            "Review Text: These locking tuners look great and keep tune.  Good quality materials and construction.  Excellent upgrade to any guitar.  I had to drill additions holes for installation.  If your neck already comes with pre-drilled holes, then they should drop right in, otherwise you will need to buy a guitar tuner pin drill jig, also available from Amazon.\n",
            "Similarity with Input Review Text: 0.09694063189150576\n",
            "Composite Score: 0.4177783107882822\n",
            "\n",
            "Order: 4\n",
            "URL: https://images-na.ssl-images-amazon.com/images/I/711kGbkdzEL._SY88.jpg\n",
            "Similarity with Input URL: 0.6478695273399353\n",
            "Review Text: Had to drill into my headstock. Needs 2 holes per tree because of the mounting peg. Use a ruler and a 1/16 drillbit and you'll be fine. I recommend installing with the strings on so you can set them properly.\n",
            "Similarity with Input Review Text: 0.023202953993436082\n",
            "Composite Score: 0.3355362406666857\n",
            "\n",
            "Order: 5\n",
            "URL: https://images-na.ssl-images-amazon.com/images/I/61DvLcapd8L._SY88.jpg\n",
            "Similarity with Input URL: 0.17228964\n",
            "Review Text: I went from fender chrome non-locking to fender gold locking. It made my guitar look beautiful and play beautiful. I think locking tuners are the way to go. If you are new to locking tuners look on YouTube for instructions.\n",
            "Similarity with Input Review Text: 0.30316601726909753\n",
            "Composite Score: 0.23772782863454878\n",
            "\n",
            "Order: 6\n",
            "URL: https://images-na.ssl-images-amazon.com/images/I/71e7ns5jvJL._SY88.jpg\n",
            "Similarity with Input URL: 0.2500558\n",
            "Review Text: Just out these beauty's on my Mitchell and they are perfect. I wanted to add character to my guitar and this definitely helps.\n",
            "Similarity with Input Review Text: 0.14996940865985417\n",
            "Composite Score: 0.20001260432992707\n",
            "\n"
          ]
        }
      ]
    }
  ]
}